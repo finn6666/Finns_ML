{
 "cells": [
  {
   "cell_type": "code",
   "execution_count": null,
   "id": "e779e5c5-b00b-44a2-b264-90d5768e78ea",
   "metadata": {},
   "outputs": [],
   "source": []
  }
 ],
 "metadata": {
  "kernelspec": {
   "display_name": "",
   "name": ""
  },
  "language_info": {
   "name": ""
  }
 },
 "nbformat": 4,
 "nbformat_minor": 5
}
