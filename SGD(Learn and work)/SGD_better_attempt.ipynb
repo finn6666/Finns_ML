{
 "cells": [
  {
   "cell_type": "code",
   "execution_count": null,
   "id": "ee443aae-64eb-4c3c-ab83-df2f8fd92d96",
   "metadata": {},
   "outputs": [],
   "source": []
  }
 ],
 "metadata": {
  "kernelspec": {
   "display_name": "",
   "name": ""
  },
  "language_info": {
   "name": ""
  }
 },
 "nbformat": 4,
 "nbformat_minor": 5
}
